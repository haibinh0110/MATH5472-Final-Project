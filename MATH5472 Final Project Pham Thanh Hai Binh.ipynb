{
 "cells": [
  {
   "cell_type": "markdown",
   "metadata": {},
   "source": [
    "# MATH5472 Final Project - Pham Thanh Hai Binh"
   ]
  },
  {
   "cell_type": "markdown",
   "metadata": {},
   "source": [
    "Preparations"
   ]
  },
  {
   "cell_type": "code",
   "execution_count": 372,
   "metadata": {},
   "outputs": [],
   "source": [
    "import numpy as np\n",
    "from scipy.stats import norm, zscore\n",
    "\n",
    "def simulate(m, n, sq_sigma_g, K, P):\n",
    "    \"\"\"Simulate the data required for heritability estimation.    \n",
    "    Params:\n",
    "    - m: no of SNPs\n",
    "    - n: no of individuals\n",
    "    - sq_sigma_g: variance of genotype effect, equal to true h^2\n",
    "    - K: prevalence of disease in population\n",
    "    - P: prevalence of disease in study\n",
    "    Returns: tuple (g, p), where\n",
    "    - g: genetic correlation matrix of all individuals\n",
    "    - p: phenotype of all individuals (0 for no disease, 1 for disease)\n",
    "    \"\"\"\n",
    "    rng = np.random.default_rng()\n",
    "    f = rng.uniform(.05, .5, m) # minor allele frequencies\n",
    "    u = rng.normal(0, np.sqrt(sq_sigma_g/m), m) # effect size of SNPs\n",
    "    i = 0\n",
    "    g = []\n",
    "    p = []\n",
    "    FILTER_PROB = 1-np.exp(-abs(np.log(K-K*P)-np.log(P-K*P)))\n",
    "\n",
    "    # main loop\n",
    "    while i < n:\n",
    "        geno = (rng.binomial(np.ones(m).astype(int)*2, 1-f) + 2*f - 2)/np.sqrt(2*f*(1-f))\n",
    "        pheno = u.T @ geno + rng.normal(0, np.sqrt(1 - sq_sigma_g)) > norm.ppf(1 - K)\n",
    "        if pheno^(K<P) and rng.binomial(1, FILTER_PROB):\n",
    "            continue # filter individuals by phenotype to get desired P\n",
    "        g.append(geno)\n",
    "        p.append(pheno)\n",
    "        i += 1\n",
    "    \n",
    "    g = np.vstack(g)\n",
    "    g = .875*(g @ g.T / m - np.eye(n)) + np.eye(n)\n",
    "    return g, zscore(np.array(p).astype(int))\n",
    "\n",
    "def reml(g, p, K, P):\n",
    "    \"\"\"Get REML estimate of heritability from inputted data.\n",
    "    Params:\n",
    "    - g: genetic correlation matrix of all individuals\n",
    "    - p: phenotype of all individuals (0 for no disease, 1 for disease)\n",
    "    - K: prevalence of disease in population\n",
    "    - P: prevalence of disease in study\n",
    "    Returns: estimated h^2 of all common variants\n",
    "    \"\"\"\n",
    "    delta_p = p - p.reshape(-1, 1)\n",
    "    sq_delta_p = (delta_p * delta_p)\n",
    "    sq_delta_p_flat = sq_delta_p[np.triu_indices(sq_delta_p.shape[0], 1)]\n",
    "    g_flat = g[np.triu_indices(g.shape[0], 1)]\n",
    "    sq_h_o = -np.cov(sq_delta_p_flat, g_flat)[0, 1]/(2*np.var(g_flat))\n",
    "    return K**2*(1-K)**2*sq_h_o/(P*(1-P)*norm.pdf(1-K)**2)\n",
    "\n",
    "def pcgc(g, p, K, P):\n",
    "    \"\"\"Get PCGC regression estimate of heritability from inputted data.\n",
    "    Params:\n",
    "    - g: genetic correlation matrix of all individuals\n",
    "    - p: phenotype of all individuals (0 for no disease, 1 for disease)\n",
    "    - K: prevalence of disease in population\n",
    "    - P: prevalence of disease in study\n",
    "    Returns: estimated h^2 of all common variants\n",
    "    \"\"\"\n",
    "    pipjs = p * p.reshape(-1, 1)\n",
    "    pipjs_flat = pipjs[np.triu_indices(pipjs.shape[0], 1)]\n",
    "    g_flat = g[np.triu_indices(g.shape[0], 1)]\n",
    "    c_times_sq_h = np.cov(pipjs_flat, g_flat)[0, 1]/np.var(g_flat)\n",
    "    return K**2*(1-K)**2*c_times_sq_h/(P*(1-P)*norm.pdf(1-K)**2)\n",
    "\n",
    "def estimate(m, n, sq_sigma_g, K, P, rep=10):\n",
    "    \"\"\"Simulate data and get h^2 estimates using both methods.\n",
    "    Params:\n",
    "    - m: no of SNPs\n",
    "    - n: no of individuals\n",
    "    - sq_sigma_g: SD of genotype effect, equal to true h^2\n",
    "    - K: prevalence of disease in population\n",
    "    - P: prevalence of disease in study\n",
    "    - rep: no. of times to perform the estimation process\n",
    "    Returns: tuple (sq_h_reml, sq_h_pcgc), where\n",
    "    - sq_h_reml: estimates using REML\n",
    "    - sq_h_pcgc: estimates using PCGC regression\n",
    "    \"\"\"\n",
    "    sq_h_reml = []\n",
    "    sq_h_pcgc = []\n",
    "    for _ in range(rep):\n",
    "        g, p = simulate(m, n, sq_sigma_g, K, P)\n",
    "        sq_h_reml.append(reml(g, p, K, P))\n",
    "        sq_h_pcgc.append(pcgc(g, p, K, P))\n",
    "    return np.array(sq_h_reml), np.array(sq_h_pcgc)"
   ]
  },
  {
   "cell_type": "markdown",
   "metadata": {},
   "source": [
    "Simulations"
   ]
  },
  {
   "cell_type": "code",
   "execution_count": 374,
   "metadata": {},
   "outputs": [
    {
     "name": "stderr",
     "output_type": "stream",
     "text": [
      "Traceback (most recent call last):\n",
      "  File \"C:\\Users\\Dell\\AppData\\Roaming\\Python\\Python312\\site-packages\\debugpy\\_vendored\\pydevd\\_pydevd_bundle\\pydevd_frame.py\", line 430, in _handle_exception\n",
      "    self.do_wait_suspend(thread, frame, event, arg, exception_type=exception_type)\n",
      "  File \"C:\\Users\\Dell\\AppData\\Roaming\\Python\\Python312\\site-packages\\debugpy\\_vendored\\pydevd\\_pydevd_bundle\\pydevd_frame.py\", line 165, in do_wait_suspend\n",
      "    self._args[0].do_wait_suspend(*args, **kwargs)\n",
      "  File \"C:\\Users\\Dell\\AppData\\Roaming\\Python\\Python312\\site-packages\\debugpy\\_vendored\\pydevd\\pydevd.py\", line 2070, in do_wait_suspend\n",
      "    keep_suspended = self._do_wait_suspend(thread, frame, event, arg, suspend_type, from_this_thread, frames_tracker)\n",
      "                     ^^^^^^^^^^^^^^^^^^^^^^^^^^^^^^^^^^^^^^^^^^^^^^^^^^^^^^^^^^^^^^^^^^^^^^^^^^^^^^^^^^^^^^^^^^^^^^^^\n",
      "  File \"C:\\Users\\Dell\\AppData\\Roaming\\Python\\Python312\\site-packages\\debugpy\\_vendored\\pydevd\\pydevd.py\", line 2106, in _do_wait_suspend\n",
      "    time.sleep(0.01)\n",
      "KeyboardInterrupt\n"
     ]
    },
    {
     "ename": "TypeError",
     "evalue": "'numpy.ndarray' object is not callable",
     "output_type": "error",
     "traceback": [
      "\u001b[1;31m---------------------------------------------------------------------------\u001b[0m",
      "\u001b[1;31mTypeError\u001b[0m                                 Traceback (most recent call last)",
      "Cell \u001b[1;32mIn[374], line 10\u001b[0m\n\u001b[0;32m      8\u001b[0m true_sq_sigma_g \u001b[38;5;241m=\u001b[39m np\u001b[38;5;241m.\u001b[39mlinspace(\u001b[38;5;241m.2\u001b[39m, \u001b[38;5;241m.8\u001b[39m, \u001b[38;5;241m4\u001b[39m)\n\u001b[0;32m      9\u001b[0m \u001b[38;5;28;01mfor\u001b[39;00m sq_sigma_g \u001b[38;5;129;01min\u001b[39;00m true_sq_sigma_g:\n\u001b[1;32m---> 10\u001b[0m     reml, pcgc \u001b[38;5;241m=\u001b[39m \u001b[43mestimate\u001b[49m\u001b[43m(\u001b[49m\u001b[38;5;241;43m1000\u001b[39;49m\u001b[43m,\u001b[49m\u001b[43m \u001b[49m\u001b[38;5;241;43m400\u001b[39;49m\u001b[43m,\u001b[49m\u001b[43m \u001b[49m\u001b[43msq_sigma_g\u001b[49m\u001b[43m,\u001b[49m\u001b[43m \u001b[49m\u001b[38;5;241;43m.01\u001b[39;49m\u001b[43m,\u001b[49m\u001b[43m \u001b[49m\u001b[38;5;241;43m.05\u001b[39;49m\u001b[43m)\u001b[49m\n\u001b[0;32m     11\u001b[0m     reml_means\u001b[38;5;241m.\u001b[39mappend(reml\u001b[38;5;241m.\u001b[39mmean())\n\u001b[0;32m     12\u001b[0m     pcgc_means\u001b[38;5;241m.\u001b[39mappend(pcgc\u001b[38;5;241m.\u001b[39mmean())\n",
      "Cell \u001b[1;32mIn[372], line 86\u001b[0m, in \u001b[0;36mestimate\u001b[1;34m(m, n, sq_sigma_g, K, P, rep)\u001b[0m\n\u001b[0;32m     84\u001b[0m \u001b[38;5;28;01mfor\u001b[39;00m _ \u001b[38;5;129;01min\u001b[39;00m \u001b[38;5;28mrange\u001b[39m(rep):\n\u001b[0;32m     85\u001b[0m     g, p \u001b[38;5;241m=\u001b[39m simulate(m, n, sq_sigma_g, K, P)\n\u001b[1;32m---> 86\u001b[0m     sq_h_reml\u001b[38;5;241m.\u001b[39mappend(\u001b[43mreml\u001b[49m\u001b[43m(\u001b[49m\u001b[43mg\u001b[49m\u001b[43m,\u001b[49m\u001b[43m \u001b[49m\u001b[43mp\u001b[49m\u001b[43m,\u001b[49m\u001b[43m \u001b[49m\u001b[43mK\u001b[49m\u001b[43m,\u001b[49m\u001b[43m \u001b[49m\u001b[43mP\u001b[49m\u001b[43m)\u001b[49m)\n\u001b[0;32m     87\u001b[0m     sq_h_pcgc\u001b[38;5;241m.\u001b[39mappend(pcgc(g, p, K, P))\n\u001b[0;32m     88\u001b[0m \u001b[38;5;28;01mreturn\u001b[39;00m np\u001b[38;5;241m.\u001b[39marray(sq_h_reml), np\u001b[38;5;241m.\u001b[39marray(sq_h_pcgc)\n",
      "\u001b[1;31mTypeError\u001b[0m: 'numpy.ndarray' object is not callable"
     ]
    }
   ],
   "source": [
    "from itertools import product\n",
    "import matplotlib.pyplot as plt\n",
    "\n",
    "reml_means = []\n",
    "pcgc_means = []\n",
    "# reml_err = []\n",
    "# pcgc_err = []\n",
    "true_sq_sigma_g = np.linspace(.2, .8, 4)\n",
    "for sq_sigma_g in true_sq_sigma_g:\n",
    "    reml, pcgc = estimate(1000, 400, sq_sigma_g, .01, .05)\n",
    "    reml_means.append(reml.mean())\n",
    "    pcgc_means.append(pcgc.mean())\n",
    "    # reml_err.append(reml.std())\n",
    "    # pcgc_err.append(pcgc.std())\n",
    "\n",
    "plt.plot(true_sq_sigma_g, reml_means, 'k', label='REML')\n",
    "plt.plot(true_sq_sigma_g, pcgc_means, 'b', label='PCGC')\n",
    "plt.xlabel(\"true h^2\")\n",
    "plt.ylabel(\"estimated h^2\")\n",
    "plt.legend()\n",
    "plt.show()"
   ]
  },
  {
   "cell_type": "code",
   "execution_count": null,
   "metadata": {},
   "outputs": [],
   "source": [
    "estimate(1000, 400, sq_sigma_g, .01, .05)"
   ]
  }
 ],
 "metadata": {
  "kernelspec": {
   "display_name": "Python 3",
   "language": "python",
   "name": "python3"
  },
  "language_info": {
   "codemirror_mode": {
    "name": "ipython",
    "version": 3
   },
   "file_extension": ".py",
   "mimetype": "text/x-python",
   "name": "python",
   "nbconvert_exporter": "python",
   "pygments_lexer": "ipython3",
   "version": "3.12.4"
  }
 },
 "nbformat": 4,
 "nbformat_minor": 2
}
